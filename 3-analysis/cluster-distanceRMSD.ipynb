{
 "cells": [
  {
   "cell_type": "code",
   "execution_count": null,
   "metadata": {},
   "outputs": [],
   "source": [
    "import numpy as np\n",
    "import scipy\n",
    "import itertools\n",
    "import  pathlib \n",
    "\n",
    "import matplotlib as mpl\n",
    "import matplotlib.pyplot as plt\n",
    "%matplotlib inline\n",
    "plt.interactive(True)\n",
    "#%config InlineBackend.figure_format = 'pdf'\n",
    "from mpl_toolkits.axes_grid1.inset_locator import inset_axes\n",
    "\n",
    "from matplotlib import gridspec\n",
    "\n",
    "from IPython.display import set_matplotlib_formats\n",
    "set_matplotlib_formats('pdf', 'png')\n",
    "plt.rcParams['savefig.dpi'] = 300\n",
    "\n",
    "plt.rcParams['figure.autolayout'] = False\n",
    "\n",
    "plt.rcParams['text.usetex'] = True\n",
    "plt.rcParams['font.family'] = \"sans-serif\"\n",
    "plt.rcParams['font.serif'] = \"cm\"\n",
    "plt.rcParams['text.latex.preamble'] = [\n",
    "    r\"\\usepackage{subdepth}\",\n",
    "    r\"\\usepackage{type1cm}\",\n",
    "    r'\\usepackage{tgheros}',    # helvetica font\n",
    "    r'\\usepackage{sansmath}',   # math-font matching  helvetica\n",
    "    r'\\sansmath'                # actually tell tex to use it!\n",
    "#    r'\\usepackage{siunitx}',    # micro symbols\n",
    "#    r'\\sisetup{detect-all}',    # force siunitx to use the fonts\n",
    "]  \n",
    "\n",
    "print(plt.rcParams['figure.figsize'])\n",
    "\n",
    "\n",
    "def set_size(column=0):\n",
    "    if (column==0):\n",
    "        plt.rcParams['figure.figsize']   = [10,6]\n",
    "        plt.rcParams['axes.labelsize']   = 18 \n",
    "        plt.rcParams['axes.titlesize']   = 20 \n",
    "        plt.rcParams['font.size']        = 16 \n",
    "        plt.rcParams['lines.linewidth']  = 2.0 \n",
    "        plt.rcParams['lines.markersize'] = 8 \n",
    "        plt.rcParams['legend.fontsize']  = 14 \n",
    "    elif (column==1):\n",
    "        plt.rcParams['figure.figsize']   = [3.5,3.5*0.6]\n",
    "        plt.rcParams['axes.labelsize']   = 10 \n",
    "        plt.rcParams['axes.titlesize']   = 12 \n",
    "        plt.rcParams['font.size']        = 10 \n",
    "        plt.rcParams['lines.linewidth']  = 1.5 \n",
    "        plt.rcParams['lines.markersize'] = 10 \n",
    "        plt.rcParams['legend.fontsize']  = 10 \n",
    "    elif (column==2):\n",
    "        plt.rcParams['figure.figsize']   = [7.0,7.0*0.6]\n",
    "        plt.rcParams['axes.labelsize']   = 10 \n",
    "        plt.rcParams['axes.titlesize']   = 12 \n",
    "        plt.rcParams['font.size']        = 10 \n",
    "        plt.rcParams['lines.linewidth']  = 2.0 \n",
    "        plt.rcParams['lines.markersize'] = 10 \n",
    "        plt.rcParams['legend.fontsize']  = 10 \n",
    "        \n",
    "set_size(column=2)"
   ]
  },
  {
   "cell_type": "markdown",
   "metadata": {},
   "source": [
    "# Load the data "
   ]
  },
  {
   "cell_type": "code",
   "execution_count": null,
   "metadata": {},
   "outputs": [],
   "source": [
    "dir='../data/d_tor1_tor2/'\n",
    "N_windows = 1370\n",
    "\n",
    "w_i = np.array([], dtype=\"int\")\n",
    "t   = np.array([])\n",
    "q = {}\n",
    "q[\"d\"], q[\"tor1\"], q[\"tor2\"] = np.array([]), np.array([]), np.array([])\n",
    "\n",
    "for window in range(0, N_windows):\n",
    "    print(window, end=\" \")\n",
    "    try:\n",
    "        c1, c2, c3, c4 = np.loadtxt(dir + str(window) + \".txt\", unpack=True)\n",
    "    except:\n",
    "        continue\n",
    "\n",
    "    w_i  = np.append(w_i, np.full(c1.shape, window))\n",
    "    t    = np.append(t, c1)\n",
    "    q[\"d\"]    = np.append(q[\"d\"]   , c2)\n",
    "    q[\"tor1\"] = np.append(q[\"tor1\"], c3)\n",
    "    q[\"tor2\"] = np.append(q[\"tor2\"], c4)\n",
    "\n",
    "    "
   ]
  },
  {
   "cell_type": "code",
   "execution_count": null,
   "metadata": {
    "tags": []
   },
   "outputs": [],
   "source": [
    "#load the rmin\n",
    "dir = '../data/mindist_r9-33/' \n",
    "\n",
    "q[\"mindist\"]=np.full(t.shape, np.nan) \n",
    "for window in range(0, N_windows):\n",
    "    fn = dir + str(window) + \".A.mindist.xvg\"\n",
    "    try:\n",
    "        c1, c2 = np.loadtxt(fn, unpack=True, comments=[\"#\",\"@\"])\n",
    "        print(window, end=\" \")\n",
    "    except:\n",
    "        continue\n",
    "    # here I match the windows and the times    \n",
    "    mask = (w_i==window) * np.in1d(t,c1)\n",
    "    q[\"mindist\"][mask] = c2 "
   ]
  },
  {
   "cell_type": "code",
   "execution_count": null,
   "metadata": {},
   "outputs": [],
   "source": [
    "#load the rmin\n",
    "dir = '../data/pairdist/' \n",
    "\n",
    "q[\"pairdist\"]=np.full([t.shape[0], 1225], np.nan) \n",
    "for window in range(0, N_windows):\n",
    "    try:\n",
    "        c = np.loadtxt(dir + str(window) + \".dist.xvg\", comments=[\"#\",\"@\"])\n",
    "        c1 = c[:,0] \n",
    "        c2 = c[:,1:]\n",
    "        print(window, end=\" \")\n",
    "    except:\n",
    "        continue\n",
    "    # here I match the windows and the times    \n",
    "    mask = (w_i==window) * np.in1d(t,c1)\n",
    "    q[\"pairdist\"][mask,:] = c2[np.in1d(c1,t[mask])]    "
   ]
  },
  {
   "cell_type": "code",
   "execution_count": null,
   "metadata": {},
   "outputs": [],
   "source": [
    "weights = np.load(\"../weights/weights.npy\")"
   ]
  },
  {
   "cell_type": "code",
   "execution_count": null,
   "metadata": {},
   "outputs": [],
   "source": [
    "# plot them \n",
    "plt.figure()\n",
    "plt.plot(q[\"d\"])\n",
    "plt.xlabel(r\"sample index\")\n",
    "plt.ylabel(r\"r / nm\")\n",
    "\n",
    "plt.figure()\n",
    "plt.plot(q[\"tor1\"])\n",
    "plt.xlabel(r\"sample index\")\n",
    "plt.ylabel(r\"$\\mathrm{\\Theta}^0$ / $^\\circ$\")\n",
    "\n",
    "plt.figure()\n",
    "plt.plot(q[\"tor2\"])\n",
    "plt.xlabel(r\"sample index\")\n",
    "plt.ylabel(r\"$\\mathrm{\\Theta}^1$ / $^\\circ$\")\n",
    "\n",
    "plt.figure()\n",
    "plt.plot(q[\"mindist\"])\n",
    "plt.xlabel(r\"sample index\")\n",
    "plt.ylabel(r\"$\\mathrm{r_{min} / nm}$\")\n"
   ]
  },
  {
   "cell_type": "code",
   "execution_count": null,
   "metadata": {},
   "outputs": [],
   "source": [
    "# reduce\n",
    "mask = np.isfinite(q[\"mindist\"])\n",
    "\n",
    "q[\"mindist\"] = q[\"mindist\"][mask]\n",
    "q[\"d\"]       = q[\"d\"]      [mask]  \n",
    "q[\"tor1\"]    = q[\"tor1\"]   [mask]  \n",
    "q[\"tor2\"]    = q[\"tor2\"]   [mask] \n",
    "w_i          = w_i         [mask] \n",
    "t            = t           [mask] \n",
    "weights      = weights     [mask]    \n",
    "\n",
    "print(q[\"mindist\"].shape)"
   ]
  },
  {
   "cell_type": "code",
   "execution_count": null,
   "metadata": {},
   "outputs": [],
   "source": [
    "q[\"pairdist\"] = q[\"pairdist\"][mask,:]"
   ]
  },
  {
   "cell_type": "code",
   "execution_count": null,
   "metadata": {},
   "outputs": [],
   "source": [
    "# reduce\n",
    "mask = q[\"mindist\"] < 1.0\n",
    "\n",
    "q[\"mindist\"] = q[\"mindist\"][mask][::1]\n",
    "q[\"d\"]       = q[\"d\"]      [mask][::1]  \n",
    "q[\"tor1\"]    = q[\"tor1\"]   [mask][::1]  \n",
    "q[\"tor2\"]    = q[\"tor2\"]   [mask][::1] \n",
    "w_i          = w_i         [mask][::1] \n",
    "t            = t           [mask][::1] \n",
    "weights      = weights     [mask][::1]    \n",
    "\n",
    "print(q[\"mindist\"].shape)\n",
    "\n",
    "q[\"pairdist\"] = q[\"pairdist\"][mask,:][::1]"
   ]
  },
  {
   "cell_type": "code",
   "execution_count": null,
   "metadata": {},
   "outputs": [],
   "source": [
    "# plot them \n",
    "plt.figure()\n",
    "plt.plot(q[\"d\"])\n",
    "plt.xlabel(r\"sample index\")\n",
    "plt.ylabel(r\"r / nm\")\n",
    "\n",
    "plt.figure()\n",
    "plt.plot(q[\"tor1\"])\n",
    "plt.xlabel(r\"sample index\")\n",
    "plt.ylabel(r\"$\\mathrm{\\Theta}^0$ / $^\\circ$\")\n",
    "\n",
    "plt.figure()\n",
    "plt.plot(q[\"tor2\"])\n",
    "plt.xlabel(r\"sample index\")\n",
    "plt.ylabel(r\"$\\mathrm{\\Theta}^1$ / $^\\circ$\")\n",
    "\n",
    "plt.figure()\n",
    "plt.plot(q[\"mindist\"])\n",
    "plt.xlabel(r\"sample index\")\n",
    "plt.ylabel(r\"$\\mathrm{r_{min} / nm}$\")\n"
   ]
  },
  {
   "cell_type": "markdown",
   "metadata": {},
   "source": [
    "# Cluster"
   ]
  },
  {
   "cell_type": "markdown",
   "metadata": {},
   "source": [
    "## Calculate the distance matrix "
   ]
  },
  {
   "cell_type": "code",
   "execution_count": null,
   "metadata": {},
   "outputs": [],
   "source": [
    "D={}"
   ]
  },
  {
   "cell_type": "code",
   "execution_count": null,
   "metadata": {},
   "outputs": [],
   "source": [
    "plt.hist(q[\"pairdist\"][q[\"pairdist\"]<2].flatten(), bins=100)"
   ]
  },
  {
   "cell_type": "code",
   "execution_count": null,
   "metadata": {},
   "outputs": [],
   "source": [
    "N_pieces = 50 \n",
    "\n",
    "q_t = q[\"pairdist\"].copy()\n",
    "\n",
    "#divide into N pieces\n",
    "_indices = np.arange(q_t.shape[0])\n",
    "_indices_s = np.array_split(_indices, N_pieces)\n",
    "\n",
    "_temp = np.full([q_t.shape[0],q_t.shape[0]], np.nan)\n",
    " \n",
    "for ii in range(len(_indices_s)):\n",
    "    l0 = _indices_s[ii].shape[0]\n",
    "    print(ii, end=\" \")\n",
    "    q_t_0 = q_t[_indices_s[ii],:].reshape(l0, -1, 1)\n",
    "    for jj in range(ii, len(_indices_s)):\n",
    "        #print(ii, jj)\n",
    "        l1 = _indices_s[jj].shape[0]\n",
    "        q_t_1 = q_t[_indices_s[jj],:].reshape(l1, -1, 1).T   \n",
    "        dq = q_t_0 - q_t_1\n",
    "\n",
    "        pair = tuple(np.meshgrid(_indices_s[ii], _indices_s[jj], indexing='ij'))\n",
    "        _temp[pair] = np.sum(dq**2.0, axis=1)**0.5    \n",
    "          "
   ]
  },
  {
   "cell_type": "code",
   "execution_count": null,
   "metadata": {},
   "outputs": [],
   "source": [
    "D[\"pairdist\"] = np.triu(_temp,1) + np.tril(_temp.T,0)"
   ]
  },
  {
   "cell_type": "code",
   "execution_count": null,
   "metadata": {},
   "outputs": [],
   "source": [
    "mat = D[\"pairdist\"][::10, ::10]\n",
    "\n",
    "plt.figure()\n",
    "square=mat.shape[1]/mat.shape[0]\n",
    "plt.imshow(mat, aspect=square, origin='upper',interpolation='none')\n",
    "\n",
    "plt.gca().xaxis.set_ticks_position('bottom')\n",
    "plt.ylabel(r\"sample index\")\n",
    "plt.xlabel(r\"sample index\")\n",
    "\n",
    "cbar=plt.colorbar(fraction=0.046, pad=0.04)\n",
    "cbar.set_label (r\"D\")\n"
   ]
  },
  {
   "cell_type": "code",
   "execution_count": null,
   "metadata": {},
   "outputs": [],
   "source": [
    "D[\"total\"] = D[\"pairdist\"] "
   ]
  },
  {
   "cell_type": "code",
   "execution_count": null,
   "metadata": {},
   "outputs": [],
   "source": [
    "plt.hist(D[\"total\"].flatten(), bins=100)"
   ]
  },
  {
   "cell_type": "markdown",
   "metadata": {},
   "source": [
    "## Do the clustering"
   ]
  },
  {
   "cell_type": "code",
   "execution_count": null,
   "metadata": {},
   "outputs": [],
   "source": [
    "np.where(np.isnan(D[\"total\"]))"
   ]
  },
  {
   "cell_type": "code",
   "execution_count": null,
   "metadata": {},
   "outputs": [],
   "source": [
    "from sklearn.cluster import AgglomerativeClustering\n",
    "\n",
    "model = AgglomerativeClustering(n_clusters=None,\n",
    "                                     distance_threshold=40, \n",
    "                                     affinity=\"precomputed\", \n",
    "                                     linkage=\"complete\")\n",
    "\n",
    "clustering = model.fit(D[\"total\"])"
   ]
  },
  {
   "cell_type": "code",
   "execution_count": null,
   "metadata": {},
   "outputs": [],
   "source": [
    "N_clusters = clustering.n_clusters_\n",
    "print(N_clusters)\n",
    "\n",
    "plt.plot(clustering.labels_)"
   ]
  },
  {
   "cell_type": "code",
   "execution_count": null,
   "metadata": {
    "tags": []
   },
   "outputs": [],
   "source": [
    "from scipy.cluster.hierarchy import dendrogram\n",
    "\n",
    "def plot_dendrogram(model, **kwargs):\n",
    "    # Create linkage matrix and then plot the dendrogram\n",
    "\n",
    "    # create the counts of samples under each node\n",
    "    counts = np.zeros(model.children_.shape[0])\n",
    "    n_samples = len(model.labels_)\n",
    "    for i, merge in enumerate(model.children_):\n",
    "        current_count = 0\n",
    "        for child_idx in merge:\n",
    "            if child_idx < n_samples:\n",
    "                current_count += 1  # leaf node\n",
    "            else:\n",
    "                current_count += counts[child_idx - n_samples]\n",
    "        counts[i] = current_count\n",
    "\n",
    "    linkage_matrix = np.column_stack([model.children_, model.distances_,\n",
    "                                      counts]).astype(float)\n",
    "\n",
    "    # Plot the corresponding dendrogram\n",
    "    dendrogram(linkage_matrix, **kwargs)"
   ]
  },
  {
   "cell_type": "code",
   "execution_count": null,
   "metadata": {
    "tags": []
   },
   "outputs": [],
   "source": [
    "plt.title('Hierarchical Clustering Dendrogram')\n",
    "# plot the top three levels of the dendrogram\n",
    "plot_dendrogram(model, truncate_mode='level', p=3)\n",
    "plt.xlabel(\"Number of points in node (or index of point if no parenthesis).\")\n",
    "plt.show()"
   ]
  },
  {
   "cell_type": "markdown",
   "metadata": {},
   "source": [
    "## Calculate inter- and intra- cluster distances"
   ]
  },
  {
   "cell_type": "code",
   "execution_count": null,
   "metadata": {
    "jupyter": {
     "outputs_hidden": true
    },
    "tags": []
   },
   "outputs": [],
   "source": [
    "norm_cluster = np.full([N_clusters, N_clusters] , np.nan)\n",
    "\n",
    "for c0 in range(0, N_clusters):\n",
    "    mask0 = clustering.labels_== c0\n",
    "    for c1 in range(c0, N_clusters):\n",
    "        mask1 = clustering.labels_== c1\n",
    "        mat = D[\"total\"][mask0, :][:, mask1]        \n",
    "        \n",
    "        if True:\n",
    "            plt.figure()\n",
    "            square=mat.shape[1]/mat.shape[0]\n",
    "            plt.imshow(mat, aspect=square, origin='upper',interpolation='none')\n",
    "\n",
    "            plt.gca().xaxis.set_ticks_position('bottom')\n",
    "            plt.ylabel(r\"sample index\")\n",
    "            plt.xlabel(r\"sample index\")\n",
    "\n",
    "            cbar=plt.colorbar(fraction=0.046, pad=0.04)\n",
    "            cbar.set_label (r\"D\")\n",
    "        \n",
    "        \n",
    "        norm_cluster[c0, c1] = np.sum(mat**2.0)**0.5 / (mat.shape[0]*mat.shape[1])**0.5 \n",
    "        if c1 > c0:\n",
    "            norm_cluster[c1, c0] = norm_cluster[c0, c1]\n",
    "        \n",
    "      #  print(c0,c1)"
   ]
  },
  {
   "cell_type": "code",
   "execution_count": null,
   "metadata": {},
   "outputs": [],
   "source": [
    "mat = norm_cluster.copy()\n",
    "\n",
    "plt.figure()\n",
    "square=mat.shape[1]/mat.shape[0]\n",
    "plt.imshow(mat, aspect=square, origin='upper',interpolation='none')\n",
    "\n",
    "plt.gca().xaxis.set_ticks_position('bottom')\n",
    "plt.ylabel(r\"sample index\")\n",
    "plt.xlabel(r\"sample index\")\n",
    "\n",
    "cbar=plt.colorbar(fraction=0.046, pad=0.04)\n",
    "cbar.set_label (r\"D\")\n",
    "\n",
    "plt.title(r\"Cluster Distance Matrix\")\n",
    "\n",
    "diag = mat.diagonal().reshape(-1,1)\n",
    "mat /= (diag * diag.T)**0.5\n",
    "\n",
    "mat = np.log(mat)\n",
    "\n",
    "plt.figure()\n",
    "square=mat.shape[1]/mat.shape[0]\n",
    "plt.imshow(mat, aspect=square, origin='upper',interpolation='none')\n",
    "\n",
    "plt.gca().xaxis.set_ticks_position('bottom')\n",
    "plt.ylabel(r\"sample index\")\n",
    "plt.xlabel(r\"sample index\")\n",
    "\n",
    "cbar=plt.colorbar(fraction=0.046, pad=0.04)\n",
    "cbar.set_label (r\"$\\ln(D)$\")\n",
    "\n",
    "plt.title(r\"log--Diagonal--Normalized Cluster Distance Matrix\")"
   ]
  },
  {
   "cell_type": "markdown",
   "metadata": {},
   "source": [
    "## Calculate the cluster centroids and centers"
   ]
  },
  {
   "cell_type": "markdown",
   "metadata": {},
   "source": [
    "### Below I am getting the labels in the order of \"closest to the rest\""
   ]
  },
  {
   "cell_type": "code",
   "execution_count": null,
   "metadata": {
    "tags": []
   },
   "outputs": [],
   "source": [
    "center_index = np.full(N_clusters, np.nan).astype(int)\n",
    "\n",
    "cluster_sorted_index = {}\n",
    "\n",
    "for c0 in range(0, N_clusters):\n",
    "    mask0 = clustering.labels_== c0\n",
    "\n",
    "    mat = D[\"total\"][mask0, :][:, mask0]\n",
    "    _dist = np.sum(mat**2.0, axis=0)\n",
    "    \n",
    "    _index = np.where(mask0)[0]    \n",
    "    \n",
    "    cluster_sorted_index[c0] = _index[np.argsort(_dist)]\n",
    "    \n",
    "for c0 in range(0, N_clusters):\n",
    "    center_index[c0] = cluster_sorted_index[c0][0]\n",
    "    print (c0, \n",
    "    w_i         [cluster_sorted_index[c0][0]], \n",
    "    t           [cluster_sorted_index[c0][0]],\n",
    "    q[\"mindist\"][cluster_sorted_index[c0][0]],\n",
    "    q[\"d\"]      [cluster_sorted_index[c0][0]], \n",
    "    q[\"tor1\"]   [cluster_sorted_index[c0][0]]*180/np.pi,  \n",
    "    q[\"tor2\"]   [cluster_sorted_index[c0][0]]*180/np.pi\n",
    "    )"
   ]
  },
  {
   "cell_type": "code",
   "execution_count": null,
   "metadata": {},
   "outputs": [],
   "source": [
    "import sys, importlib\n",
    "from densitytopmf import *\n",
    "importlib.reload(sys.modules['densitytopmf'])\n",
    "from densitytopmf import *"
   ]
  },
  {
   "cell_type": "code",
   "execution_count": null,
   "metadata": {},
   "outputs": [],
   "source": [
    "##### calculate the  metadaynamics weights\n",
    "Temperature = 310\n",
    "# Boltzmann constant in kJ/(mol.K)\n",
    "kB = 0.0083144621\n",
    "beta = 1.0/(kB*Temperature)"
   ]
  },
  {
   "cell_type": "code",
   "execution_count": null,
   "metadata": {},
   "outputs": [],
   "source": [
    "cluster_centers = {}\n",
    "G = {}"
   ]
  },
  {
   "cell_type": "code",
   "execution_count": null,
   "metadata": {},
   "outputs": [],
   "source": [
    "cluster_centers[\"mindist\"] = np.full([N_clusters, 2], np.nan)\n",
    "cluster_centers[\"tor1\"]    = np.full([N_clusters, 2], np.nan)\n",
    "cluster_centers[\"tor2\"]    = np.full([N_clusters, 2], np.nan)\n",
    "cluster_centers[\"d\"]       = np.full([N_clusters, 2], np.nan)\n",
    "\n",
    "G[\"c\"] = np.full(N_clusters, np.nan)\n",
    "\n",
    "for i in range(0, N_clusters):\n",
    "    mask = clustering.labels_==i\n",
    "    #plt.plot(mask)\n",
    "    _temp = do_mean_std(q[\"mindist\"]   [mask], weights[mask,0])\n",
    "    cluster_centers[\"mindist\"][i,:] = _temp\n",
    "\n",
    "    _temp = do_mean_std_angle(q[\"tor1\"][mask], weights[mask,0])\n",
    "    cluster_centers[\"tor1\"]   [i,:] = _temp\n",
    "    \n",
    "    _temp = do_mean_std_angle(q[\"tor2\"][mask], weights[mask,0])\n",
    "    cluster_centers[\"tor2\"]   [i,:] = _temp\n",
    "    \n",
    "    _temp = do_mean_std(q[\"d\"]         [mask], weights[mask,0])\n",
    "    cluster_centers[\"d\"]      [i,:] = _temp\n",
    "    \n",
    "    _temp = -np.log(np.sum(weights[mask,0])) / beta\n",
    "    G[\"c\"][i] = _temp\n",
    "    \n",
    "G[\"c\"] -= G[\"c\"].min()"
   ]
  },
  {
   "cell_type": "code",
   "execution_count": null,
   "metadata": {},
   "outputs": [],
   "source": [
    "cluster_centers[\"mindist\", \"mean\"] = np.full([N_clusters, 1], np.nan)\n",
    "cluster_centers[\"tor1\"   , \"mean\"] = np.full([N_clusters, 1], np.nan)\n",
    "cluster_centers[\"tor2\"   , \"mean\"] = np.full([N_clusters, 1], np.nan)\n",
    "cluster_centers[\"d\"      , \"mean\"] = np.full([N_clusters, 1], np.nan)\n",
    "\n",
    "cluster_centers[\"mindist\", \"std\"] = np.full([N_clusters, 1], np.nan)\n",
    "cluster_centers[\"tor1\"   , \"std\"] = np.full([N_clusters, 1], np.nan)\n",
    "cluster_centers[\"tor2\"   , \"std\"] = np.full([N_clusters, 1], np.nan)\n",
    "cluster_centers[\"d\"      , \"std\"] = np.full([N_clusters, 1], np.nan)\n",
    "\n",
    "G[\"c\", \"mean\"] = np.full(N_clusters, np.nan)\n",
    "G[\"c\", \"std\" ] = np.full(N_clusters, np.nan)\n",
    "\n",
    "\n",
    "\n",
    "for i in range(clustering.n_clusters_):\n",
    "    mask = clustering.labels_==i\n",
    "    #plt.plot(mask)\n",
    "    _temp0, _temp1 = do_mean_std_bs(q[\"mindist\"]   [mask], weights[mask,1:])\n",
    "    cluster_centers[\"mindist\", \"mean\"][i] = _temp0[\"mean\"]\n",
    "    cluster_centers[\"mindist\", \"std\" ][i] = _temp0[\"std\" ]\n",
    "\n",
    "    _temp0         = do_mean_std_angle_bs(q[\"tor1\"][mask], weights[mask,1:])\n",
    "    cluster_centers[\"tor1\", \"mean\"][i] = _temp0[\"mean\"]\n",
    "    cluster_centers[\"tor1\", \"std\" ][i] = _temp0[\"std\" ]\n",
    "   \n",
    "    _temp0         = do_mean_std_angle_bs(q[\"tor2\"][mask], weights[mask,1:])\n",
    "    cluster_centers[\"tor2\", \"mean\"][i] = _temp0[\"mean\"]\n",
    "    cluster_centers[\"tor2\", \"std\" ][i] = _temp0[\"std\" ]\n",
    "   \n",
    "    _temp0, _temp1 = do_mean_std_bs(q[\"d\"]         [mask], weights[mask,1:])\n",
    "    cluster_centers[\"d\", \"mean\"][i] = _temp0[\"mean\"]\n",
    "    cluster_centers[\"d\", \"std\" ][i] = _temp0[\"std\" ]\n",
    "    \n",
    "    _temp = -np.log( np.sum(weights[mask,1:], axis=0) ) / beta\n",
    "    G[\"c\", \"mean\"][i] = np.mean(_temp)\n",
    "    G[\"c\", \"std\" ][i] = np.std(_temp)\n",
    "    \n",
    "G[\"c\", \"mean\"] -= G[\"c\", \"mean\"].min()"
   ]
  },
  {
   "cell_type": "code",
   "execution_count": null,
   "metadata": {
    "tags": []
   },
   "outputs": [],
   "source": [
    "print (\"{:^6} {:^10} {:^10} {:^10} {:^10} {:^10} {:^10} {:^10} {:^10} {:^10} {:^10} {:^10} {:^10} {:^10} {:^10} {:^10} {:^10} {:^10} {:^10} {:^10}\".format(\n",
    "\"cluster\",\n",
    "\"DG\", \"DG bm\", \"DG bs\",\n",
    "\"mindist c\", \"mindist av\", \"mindist bm\", \"mindist bs\",\n",
    "\"tor1 c\", \"tor1 av\", \"tor1 bm\", \"tor1 bs\",\n",
    "\"tor2 c\", \"tor2 av\", \"tor2 bm\", \"tor2 bs\",\n",
    "\"d c\", \"d av\", \"d bm\", \"d bs\"\n",
    ")\n",
    ")\n",
    "\n",
    "for i in range(0, N_clusters):\n",
    "    print (    \n",
    "    \"{:<6} {:>10.3f} {:>10.3f} {:>10.3f} {:>10.3f} {:>10.3f} {:>10.3f} {:>10.3f} {:>10.3f} {:>10.3f} {:>10.3f} {:>10.3f} {:>10.3f} {:>10.3f} {:>10.3f} {:>10.3f} {:>10.3f} {:>10.3f} {:>10.3f} {:>10.3f}\".format(\n",
    "    i, \n",
    "    G[\"c\"][i], G[\"c\", \"mean\"][i], G[\"c\", \"std\"][i],\n",
    "    q[\"mindist\"][center_index[i]],            cluster_centers[\"mindist\"][i,0],           cluster_centers[\"mindist\", \"mean\"][i,0],           cluster_centers[\"mindist\", \"std\"][i,0],           \n",
    "    q[\"tor1\"]   [center_index[i]]*180/np.pi,  cluster_centers[\"tor1\"]   [i,0]*180/np.pi, cluster_centers[\"tor1\"   , \"mean\"][i,0]*180/np.pi, cluster_centers[\"tor1\"   , \"std\"][i,0],    \n",
    "    q[\"tor2\"]   [center_index[i]]*180/np.pi,  cluster_centers[\"tor2\"]   [i,0]*180/np.pi, cluster_centers[\"tor2\"   , \"mean\"][i,0]*180/np.pi, cluster_centers[\"tor2\"   , \"std\"][i,0],    \n",
    "    q[\"d\"]      [center_index[i]],            cluster_centers[\"d\"]      [i,0],           cluster_centers[\"d\"      , \"mean\"][i,0],           cluster_centers[\"d\"      , \"std\"][i,0]\n",
    "    )\n",
    "    )"
   ]
  },
  {
   "cell_type": "code",
   "execution_count": null,
   "metadata": {
    "tags": []
   },
   "outputs": [],
   "source": [
    "indices = np.argsort(G[\"c\"])\n",
    "\n",
    "names = np.around(cluster_centers[\"d\"][:,0], decimals=2).astype(str)\n",
    "\n",
    "names=np.arange(N_clusters).astype(int)\n",
    "\n",
    "x = indices.astype(str)\n",
    "y = G[\"c\"][indices]\n",
    "yerr = G[\"c\", \"std\"][indices]\n",
    "\n",
    "#plt.bar(x, y, alpha=0.1);\n",
    "plt.errorbar(x, y, yerr=yerr, xerr=None, fmt=' ', capsize = 3)\n",
    "\n",
    "plt.ylim(0,20)\n",
    "\n",
    "#plt.xticks(rotation=90)\n",
    "\n",
    "#plt.xticks(rotation=90)\n",
    "#\n",
    "#x = indices.astype(str)\n",
    "#y = G[\"c\", \"mean\"][indices]\n",
    "#yerr = G[\"c\", \"std\"][indices]\n",
    "#\n",
    "#plt.bar(x, y, alpha=0.1)\n",
    "#plt.errorbar(x, y, yerr=yerr, xerr=None, fmt=' ')"
   ]
  },
  {
   "cell_type": "markdown",
   "metadata": {},
   "source": [
    "## Make cluster trajectories"
   ]
  },
  {
   "cell_type": "code",
   "execution_count": null,
   "metadata": {
    "tags": []
   },
   "outputs": [],
   "source": [
    "import mdtraj as md\n",
    "\n",
    "dir = \"../data/traj/\"\n",
    "traj = {}\n",
    "\n",
    "windows = np.unique(w_i)\n",
    "#print(windows)\n",
    "\n",
    "for window in windows:\n",
    "    traj[window] = md.load(dir + str(window) + '.protein.xtc', top=dir + 'topol.pdb')\n",
    "    print(window, traj[window])"
   ]
  },
  {
   "cell_type": "code",
   "execution_count": null,
   "metadata": {
    "tags": []
   },
   "outputs": [],
   "source": [
    "import nglview as nv \n",
    "view = nv.show_mdtraj(traj[1350])  \n",
    "view"
   ]
  },
  {
   "cell_type": "markdown",
   "metadata": {},
   "source": [
    "### Generate Cluster Center Trajectory"
   ]
  },
  {
   "cell_type": "code",
   "execution_count": null,
   "metadata": {
    "tags": []
   },
   "outputs": [],
   "source": [
    "traj_center={}\n",
    "for c0 in range(0, N_clusters):\n",
    "    w_i_c = w_i [center_index[c0]]\n",
    "    t_c   = t   [center_index[c0]]\n",
    "    \n",
    "    print (c0, w_i_c, t_c)\n",
    "        \n",
    "    traj_center[c0] = traj[w_i_c].slice(traj[w_i_c].time == t_c)\n",
    "    \n",
    "    print(traj_center[c0])"
   ]
  },
  {
   "cell_type": "code",
   "execution_count": null,
   "metadata": {},
   "outputs": [],
   "source": [
    "import os\n",
    "\n",
    "outdir = \"./cluster-contact-2/\"\n",
    "\n",
    "os.mkdir(outdir)"
   ]
  },
  {
   "cell_type": "code",
   "execution_count": null,
   "metadata": {
    "tags": []
   },
   "outputs": [],
   "source": [
    "from copy import deepcopy\n",
    "\n",
    "clusters_sorted = np.argsort(G[\"c\"])\n",
    "print(clusters_sorted)\n",
    "print(G[\"c\"][clusters_sorted])\n",
    "\n",
    "for c0 in clusters_sorted:\n",
    "    oname = \"{:.3f}\".format(G[\"c\"][c0]) + \"_{:0}\".format(c0) + \".center.pdb\"\n",
    "    print(oname)\n",
    "    bfactors =  np.ones(traj_center[c0].n_atoms) # G[\"c\"][c0] \n",
    "    traj_center[c0].save_pdb( outdir + oname, bfactors=bfactors)\n",
    "\n"
   ]
  },
  {
   "cell_type": "code",
   "execution_count": null,
   "metadata": {},
   "outputs": [],
   "source": [
    "print(clusters_sorted)\n",
    "print(G[\"c\"][clusters_sorted])\n",
    "\n",
    "lt = [traj_center[key] for key in clusters_sorted]\n",
    "print(lt)\n",
    "traj_center_joined = md.join(lt, check_topology=True, discard_overlapping_frames=False)\n",
    "\n",
    "traj_center_joined.superpose(traj_center_joined)\n",
    "print(traj_center_joined)"
   ]
  },
  {
   "cell_type": "code",
   "execution_count": null,
   "metadata": {
    "tags": []
   },
   "outputs": [],
   "source": [
    "import nglview as nv \n",
    "view = nv.show_mdtraj(traj_center_joined)  \n",
    "view"
   ]
  },
  {
   "cell_type": "markdown",
   "metadata": {},
   "source": [
    "### Generate Cluster Trajectories"
   ]
  },
  {
   "cell_type": "markdown",
   "metadata": {},
   "source": [
    "The structures are resorted based on their distance to the rest. It starts with the closest to the rest, which is also the centroid and moves on."
   ]
  },
  {
   "cell_type": "code",
   "execution_count": null,
   "metadata": {
    "tags": []
   },
   "outputs": [],
   "source": [
    "traj_allcl={}\n",
    "\n",
    "for c0 in range(0, N_clusters):\n",
    "    w_i_c = w_i [cluster_sorted_index[c0]]\n",
    "    t_c   = t   [cluster_sorted_index[c0]]\n",
    "    \n",
    "    ii = 0\n",
    "    \n",
    "    traj_allcl[c0] = {}\n",
    "    traj_allcl[c0][ii] = deepcopy(traj[w_i_c[ii]].slice(traj[w_i_c[ii]].time == t_c[ii]))\n",
    "    \n",
    "    for ii in range(1,len(w_i_c)):\n",
    "        #print(w_i_c[ii], t_c[ii])\n",
    "        traj_allcl[c0][ii] = deepcopy(traj[w_i_c[ii]].slice(traj[w_i_c[ii]].time == t_c[ii]))\n",
    "    \n",
    "    print(traj_allcl[c0])"
   ]
  },
  {
   "cell_type": "code",
   "execution_count": null,
   "metadata": {
    "tags": []
   },
   "outputs": [],
   "source": [
    "clusters_sorted = np.argsort(G[\"c\"])\n",
    "print(clusters_sorted)\n",
    "print(G[\"c\"][clusters_sorted])\n",
    "\n",
    "traj_allcl_joined={}\n",
    "\n",
    "for c0 in clusters_sorted:\n",
    "    lt = [traj_allcl[c0][key] for key in traj_allcl[c0].keys()]\n",
    "    traj_allcl_joined[c0] = md.join(lt, check_topology=True, discard_overlapping_frames=False)\n",
    "    traj_allcl_joined[c0].superpose(traj_center_joined, frame=c0)\n",
    "\n",
    "    print(traj_allcl_joined[c0])"
   ]
  },
  {
   "cell_type": "code",
   "execution_count": null,
   "metadata": {},
   "outputs": [],
   "source": [
    "c0 = clusters_sorted[1]\n",
    "print(c0)\n",
    "import nglview as nv \n",
    "view = nv.show_mdtraj(traj_allcl_joined[c0])  \n",
    "view"
   ]
  },
  {
   "cell_type": "code",
   "execution_count": null,
   "metadata": {},
   "outputs": [],
   "source": [
    "for c0 in clusters_sorted:\n",
    "    oname = \"{:.3f}\".format(G[\"c\"][c0]) + \"_{:0}\".format(c0) + \".cluster.xtc\"\n",
    "    print(oname)\n",
    "    traj_allcl_joined[c0].save_xtc(outdir + oname)\n",
    "\n"
   ]
  },
  {
   "cell_type": "markdown",
   "metadata": {},
   "source": [
    "# Pair Distances($\\mathrm{residue_i}$, $\\mathrm{residue_j}$, cluster)"
   ]
  },
  {
   "cell_type": "code",
   "execution_count": null,
   "metadata": {},
   "outputs": [],
   "source": [
    "# plot them \n",
    "plt.figure()\n",
    "\n",
    "q_t = q[\"pairdist\"].copy()\n",
    "q_t [q_t==0] = np.nan\n",
    "\n",
    "plt.matshow(q_t, aspect=q_t.shape[1]/q_t.shape[0])\n",
    "plt.xlabel(r\"pairdist\")\n",
    "plt.ylabel(r\"sample index\")"
   ]
  },
  {
   "cell_type": "code",
   "execution_count": null,
   "metadata": {},
   "outputs": [],
   "source": [
    "q1_t = q[\"pairdist\"]\n",
    "q2_t = clustering.labels_\n",
    "\n",
    "mask = np.isfinite(q1_t[:,0])\n",
    "\n",
    "i=0\n",
    "\n",
    "A , bin_centers = do_average(y=q1_t[mask,i], x=q2_t[mask], weights=weights[mask,0], bins=np.arange(0,N_clusters+1,1))\n",
    "\n",
    "for i in range(1,1225):\n",
    "    y, x = do_average(y=q1_t[mask,i], x=q2_t[mask], weights=weights[mask,0], bins=np.arange(0,N_clusters+1,1))\n",
    "    A = np.vstack([A, y])"
   ]
  },
  {
   "cell_type": "code",
   "execution_count": null,
   "metadata": {},
   "outputs": [],
   "source": [
    "print(bin_centers , N_clusters)\n",
    "plt.figure()\n",
    "\n",
    "#A[A<0.00001] = np.nan\n",
    "minx, maxx, miny, maxy = bin_centers.min(), bin_centers.max(), .5, 1295.5 \n",
    "\n",
    "plt.imshow(A, origin=\"lower\", extent = (minx, maxx, miny, maxy), aspect = (maxx-minx) / (maxy-miny) , interpolation=\"none\" )\n",
    "cbar=plt.colorbar(fraction=0.046, pad=0.04)\n",
    "cbar.set_label (r\"Pairdist\")\n",
    "\n",
    "plt.xlabel(r\"$\\mathrm{r}$ / nm\")\n",
    "plt.ylabel(r\"Residue No.\")"
   ]
  },
  {
   "cell_type": "code",
   "execution_count": null,
   "metadata": {},
   "outputs": [],
   "source": [
    "B = A.reshape(35,35,-1)\n",
    "print(B.shape, B.max(), B.min())"
   ]
  },
  {
   "cell_type": "code",
   "execution_count": null,
   "metadata": {
    "tags": []
   },
   "outputs": [],
   "source": [
    "for i in indices:\n",
    "    \n",
    "    plt.figure()\n",
    "\n",
    "    Z = B[:,:,i].copy()\n",
    "    \n",
    "    \n",
    "    #Z[Z>2] = np.nan\n",
    "\n",
    "    minx, maxx, miny, maxy = 0.5, 35.5, 0.5, 35.5 \n",
    "    aspect= (maxx-minx) / (maxy-miny)\n",
    "    plt.gca().set_aspect(aspect)\n",
    "\n",
    "    plt.imshow(Z, origin=\"lower\", extent = (minx, maxx, miny, maxy),\n",
    "               aspect = (maxx-minx) / (maxy-miny),\n",
    "               interpolation=\"gaussian\", cmap=\"gist_stern\")\n",
    "    #_X, _Y = np.meshgrid(np.arange(1,36), np.arange(1,36))\n",
    "    #plt.contourf(_X, _Y, Z.T, 5, alpha=1, cmap=\"jet_r\");\n",
    "\n",
    "    plt.gca().xaxis.set_ticks_position('bottom')\n",
    "    \n",
    "    cbar=plt.colorbar(fraction=0.046, pad=0.04)\n",
    "    cbar.set_label (r\"$\\mathrm{d_{ij}}$ / nm\")\n",
    "    \n",
    "    plt.clim(0.4,2)\n",
    "\n",
    "    plt.xlabel(r\"Residue No. (chain A)\")\n",
    "    plt.ylabel(r\"Residue No. (chain B)\")\n",
    "    plt.title(r\"$\\mathrm{\\Delta G} =$ \"   + '{0:.2f}'.format(G[\"c\"][i]) + r\"$\\pm$\" + '{0:.2f}'.format(G[\"c\", \"std\"][i])  + \" $\\mathrm{kJ/mol}$, \" +\n",
    "               \"$\\mathrm{cluster} =$ \"    + '{0:.0f}'.format(np.arange(0,N_clusters+1,1)[i])         + \", \"                   +\n",
    "               \"$\\mathrm{r} =$ \"          + '{0:.2f}'.format(cluster_centers[\"d\"]      [i,0])           + \" $\\mathrm{nm}$, \"  +\n",
    "               \"$\\mathrm{r_{min}} =$ \"    + '{0:.2f}'.format(cluster_centers[\"mindist\"][i,0])           + \" $\\mathrm{nm}$, \"  +\n",
    "               \"$\\mathrm{{\\Theta}_1} =$ \" + '{0:.2f}'.format(cluster_centers[\"tor1\"]   [i,0]*180/np.pi) + \"$^\\circ$, \"        +\n",
    "               \"$\\mathrm{{\\Theta}_2} =$ \" + '{0:.2f}'.format(cluster_centers[\"tor2\"]   [i,0]*180/np.pi) + \"$^\\circ$\"\n",
    "             )"
   ]
  },
  {
   "cell_type": "markdown",
   "metadata": {},
   "source": [
    "Above plots are fine but they may be unaligned.  Since chain A and B are indistinguishable.  I want to make sure that I average of the aligned contact maps."
   ]
  },
  {
   "cell_type": "code",
   "execution_count": null,
   "metadata": {},
   "outputs": [],
   "source": [
    "# align\n",
    "q1_t = q[\"pairdist\"].copy()\n",
    "q2_t = clustering.labels_.copy()\n",
    "\n",
    "mask = np.isfinite(q1_t[:,0])\n",
    "print(q1_t.shape)\n",
    "\n",
    "y   = q1_t[mask,:].reshape(-1,35,35) \n",
    "print(y.shape)\n",
    "\n",
    "Bn = np.zeros([35,35,N_clusters])\n",
    "\n",
    "for i in indices:\n",
    "    print(i)\n",
    "    mask2 = q2_t==i\n",
    "    \n",
    "    w = weights[mask2,0]\n",
    "    y_m = y[mask2,:,:]\n",
    "    y_ref = y_m[0,:,:]\n",
    "\n",
    "    for j in range(0, y_m.shape[0]):\n",
    "        y_t = y_m[j,:,:]\n",
    "    \n",
    "        d0 = np.sum( (y_t   - y_ref)**2 / 2**y_t   )\n",
    "        d1 = np.sum( (y_t.T - y_ref)**2 / 2**y_t.T )\n",
    "    \n",
    "        if d1<d0:\n",
    "            Bn[:,:,i] += y_t.T*w[j]  \n",
    "            print(j ,d0, d1, \"swapped\")\n",
    "        else:\n",
    "            Bn[:,:,i] += y_t*w[j]\n",
    "            print(j ,d0, d1)\n",
    "    \n",
    "    Bn[:,:,i]/=np.sum(w)\n",
    "    \n"
   ]
  },
  {
   "cell_type": "code",
   "execution_count": null,
   "metadata": {
    "tags": []
   },
   "outputs": [],
   "source": [
    "Bn_0 = Bn.copy()\n",
    "\n",
    "# align to the average\n",
    "q1_t = q[\"pairdist\"].copy()\n",
    "q2_t = clustering.labels_.copy()\n",
    "\n",
    "mask = np.isfinite(q1_t[:,0])\n",
    "print(q1_t.shape)\n",
    "\n",
    "y   = q1_t[mask,:].reshape(-1,35,35) \n",
    "print(y.shape)\n",
    "\n",
    "Bn = np.zeros([35,35,N_clusters])\n",
    "\n",
    "for i in indices:\n",
    "    print(i)\n",
    "    mask2 = q2_t==i\n",
    "\n",
    "    w = weights[mask2,0]\n",
    "    y_m = y[mask2,:,:]\n",
    "    y_ref = Bn_0[:,:,i]\n",
    "\n",
    "    for j in range(0, y_m.shape[0]):\n",
    "        y_t = y_m[j,:,:]\n",
    "    \n",
    "        d0 = np.sum( (y_t   - y_ref)**2 / 2**y_t   )\n",
    "        d1 = np.sum( (y_t.T - y_ref)**2 / 2**y_t.T )\n",
    "    \n",
    "        if d1<d0:\n",
    "            Bn[:,:,i]+=y_t.T*w[j]    \n",
    "            print(j ,d0, d1, \"swapped\")\n",
    "        else:\n",
    "            Bn[:,:,i]+=y_t*w[j]\n",
    "            print(j ,d0, d1)\n",
    "    \n",
    "    Bn[:,:,i]/=np.sum(w)"
   ]
  },
  {
   "cell_type": "code",
   "execution_count": null,
   "metadata": {
    "tags": []
   },
   "outputs": [],
   "source": [
    "for i in indices:\n",
    "    \n",
    "    plt.figure()\n",
    "\n",
    "    Z = Bn[:,:,i].copy()\n",
    "    \n",
    "    \n",
    "    #Z[Z>2] = np.nan\n",
    "\n",
    "    minx, maxx, miny, maxy = 0.5, 35.5, 0.5, 35.5 \n",
    "    aspect= (maxx-minx) / (maxy-miny)\n",
    "    plt.gca().set_aspect(aspect)\n",
    "\n",
    "    plt.imshow(Z, origin=\"lower\", extent = (minx, maxx, miny, maxy),\n",
    "               aspect = (maxx-minx) / (maxy-miny),\n",
    "               interpolation=\"gaussian\", cmap=\"gist_stern\")\n",
    "    #_X, _Y = np.meshgrid(np.arange(1,36), np.arange(1,36))\n",
    "    #plt.contourf(_X, _Y, Z.T, 5, alpha=1, cmap=\"jet_r\");\n",
    "\n",
    "    plt.gca().xaxis.set_ticks_position('bottom')\n",
    "    \n",
    "    cbar=plt.colorbar(fraction=0.046, pad=0.04)\n",
    "    cbar.set_label (r\"$\\mathrm{d_{ij}}$ / nm\")\n",
    "    \n",
    "    plt.clim(0.4,2)\n",
    "\n",
    "    plt.xlabel(r\"Residue No. (chain A)\")\n",
    "    plt.ylabel(r\"Residue No. (chain B)\")\n",
    "    plt.title(r\"$\\mathrm{\\Delta G} =$ \"   + '{0:.2f}'.format(G[\"c\"][i]) + r\"$\\pm$\" + '{0:.2f}'.format(G[\"c\", \"std\"][i])  + \" $\\mathrm{kJ/mol}$, \" +\n",
    "               \"$\\mathrm{cluster} =$ \"    + '{0:.0f}'.format(np.arange(0,N_clusters+1,1)[i])         + \", \"                   +\n",
    "               \"$\\mathrm{r} =$ \"          + '{0:.2f}'.format(cluster_centers[\"d\"]      [i,0])           + \" $\\mathrm{nm}$, \"  +\n",
    "               \"$\\mathrm{r_{min}} =$ \"    + '{0:.2f}'.format(cluster_centers[\"mindist\"][i,0])           + \" $\\mathrm{nm}$, \"  +\n",
    "               \"$\\mathrm{{\\Theta}_1} =$ \" + '{0:.2f}'.format(cluster_centers[\"tor1\"]   [i,0]*180/np.pi) + \"$^\\circ$, \"        +\n",
    "               \"$\\mathrm{{\\Theta}_2} =$ \" + '{0:.2f}'.format(cluster_centers[\"tor2\"]   [i,0]*180/np.pi) + \"$^\\circ$\"\n",
    "             )"
   ]
  },
  {
   "cell_type": "code",
   "execution_count": null,
   "metadata": {},
   "outputs": [],
   "source": []
  },
  {
   "cell_type": "code",
   "execution_count": null,
   "metadata": {},
   "outputs": [],
   "source": []
  }
 ],
 "metadata": {
  "kernelspec": {
   "display_name": "Python 3",
   "language": "python",
   "name": "python3"
  },
  "language_info": {
   "codemirror_mode": {
    "name": "ipython",
    "version": 3
   },
   "file_extension": ".py",
   "mimetype": "text/x-python",
   "name": "python",
   "nbconvert_exporter": "python",
   "pygments_lexer": "ipython3",
   "version": "3.6.13"
  },
  "toc-showcode": false
 },
 "nbformat": 4,
 "nbformat_minor": 4
}
