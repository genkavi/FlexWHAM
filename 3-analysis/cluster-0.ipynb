{
 "cells": [
  {
   "cell_type": "code",
   "execution_count": null,
   "metadata": {},
   "outputs": [],
   "source": [
    "import numpy as np\n",
    "import scipy\n",
    "import itertools\n",
    "import  pathlib \n",
    "\n",
    "import matplotlib as mpl\n",
    "import matplotlib.pyplot as plt\n",
    "%matplotlib inline\n",
    "plt.interactive(True)\n",
    "#%config InlineBackend.figure_format = 'pdf'\n",
    "from mpl_toolkits.axes_grid1.inset_locator import inset_axes\n",
    "\n",
    "from matplotlib import gridspec\n",
    "\n",
    "from IPython.display import set_matplotlib_formats\n",
    "set_matplotlib_formats('pdf', 'png')\n",
    "plt.rcParams['savefig.dpi'] = 300\n",
    "\n",
    "plt.rcParams['figure.autolayout'] = False\n",
    "\n",
    "plt.rcParams['text.usetex'] = True\n",
    "plt.rcParams['font.family'] = \"sans-serif\"\n",
    "plt.rcParams['font.serif'] = \"cm\"\n",
    "plt.rcParams['text.latex.preamble'] = [\n",
    "    r\"\\usepackage{subdepth}\",\n",
    "    r\"\\usepackage{type1cm}\",\n",
    "    r'\\usepackage{tgheros}',    # helvetica font\n",
    "    r'\\usepackage{sansmath}',   # math-font matching  helvetica\n",
    "    r'\\sansmath'                # actually tell tex to use it!\n",
    "#    r'\\usepackage{siunitx}',    # micro symbols\n",
    "#    r'\\sisetup{detect-all}',    # force siunitx to use the fonts\n",
    "]  \n",
    "\n",
    "print(plt.rcParams['figure.figsize'])\n",
    "\n",
    "\n",
    "def set_size(column=0):\n",
    "    if (column==0):\n",
    "        plt.rcParams['figure.figsize']   = [10,6]\n",
    "        plt.rcParams['axes.labelsize']   = 18 \n",
    "        plt.rcParams['axes.titlesize']   = 20 \n",
    "        plt.rcParams['font.size']        = 16 \n",
    "        plt.rcParams['lines.linewidth']  = 2.0 \n",
    "        plt.rcParams['lines.markersize'] = 8 \n",
    "        plt.rcParams['legend.fontsize']  = 14 \n",
    "    elif (column==1):\n",
    "        plt.rcParams['figure.figsize']   = [3.5,3.5*0.6]\n",
    "        plt.rcParams['axes.labelsize']   = 10 \n",
    "        plt.rcParams['axes.titlesize']   = 12 \n",
    "        plt.rcParams['font.size']        = 10 \n",
    "        plt.rcParams['lines.linewidth']  = 1.5 \n",
    "        plt.rcParams['lines.markersize'] = 10 \n",
    "        plt.rcParams['legend.fontsize']  = 10 \n",
    "    elif (column==2):\n",
    "        plt.rcParams['figure.figsize']   = [7.0,7.0*0.6]\n",
    "        plt.rcParams['axes.labelsize']   = 10 \n",
    "        plt.rcParams['axes.titlesize']   = 12 \n",
    "        plt.rcParams['font.size']        = 10 \n",
    "        plt.rcParams['lines.linewidth']  = 2.0 \n",
    "        plt.rcParams['lines.markersize'] = 10 \n",
    "        plt.rcParams['legend.fontsize']  = 10 \n",
    "        \n",
    "set_size(column=2)"
   ]
  },
  {
   "cell_type": "code",
   "execution_count": null,
   "metadata": {},
   "outputs": [],
   "source": [
    "dir='../data/d_tor1_tor2/'\n",
    "N_windows = 1370\n",
    "\n",
    "w_i = np.array([], dtype=\"int\")\n",
    "t   = np.array([])\n",
    "q = {}\n",
    "q[\"d\"], q[\"tor1\"], q[\"tor2\"] = np.array([]), np.array([]), np.array([])\n",
    "\n",
    "for window in range(0, N_windows):\n",
    "    print(window, end=\" \")\n",
    "    try:\n",
    "        c1, c2, c3, c4 = np.loadtxt(dir + str(window) + \".txt\", unpack=True)\n",
    "    except:\n",
    "        continue\n",
    "\n",
    "    w_i  = np.append(w_i, np.full(c1.shape, window))\n",
    "    t    = np.append(t, c1)\n",
    "    q[\"d\"]    = np.append(q[\"d\"]   , c2)\n",
    "    q[\"tor1\"] = np.append(q[\"tor1\"], c3)\n",
    "    q[\"tor2\"] = np.append(q[\"tor2\"], c4)\n",
    "\n",
    "    "
   ]
  },
  {
   "cell_type": "code",
   "execution_count": null,
   "metadata": {},
   "outputs": [],
   "source": [
    "weights = np.load(\"../weights/weights.npy\")"
   ]
  },
  {
   "cell_type": "code",
   "execution_count": null,
   "metadata": {},
   "outputs": [],
   "source": [
    "# reduce\n",
    "q[\"d\"]    = q[\"d\"]   [::25] \n",
    "q[\"tor1\"] = q[\"tor1\"][::25] \n",
    "q[\"tor2\"] = q[\"tor2\"][::25]\n",
    "w_i       = w_i      [::25]\n",
    "t         = t        [::25]\n",
    "weights   = weights  [::25]   "
   ]
  },
  {
   "cell_type": "code",
   "execution_count": null,
   "metadata": {},
   "outputs": [],
   "source": [
    "# plot them \n",
    "plt.figure()\n",
    "plt.plot(q[\"d\"])\n",
    "plt.xlabel(r\"sample index\")\n",
    "plt.ylabel(r\"r / nm\")\n",
    "\n",
    "plt.figure()\n",
    "plt.plot(q[\"tor1\"])\n",
    "plt.xlabel(r\"sample index\")\n",
    "plt.ylabel(r\"$\\mathrm{\\Theta}^0$ / $^\\circ$\")\n",
    "\n",
    "plt.figure()\n",
    "plt.plot(q[\"tor2\"])\n",
    "plt.xlabel(r\"sample index\")\n",
    "plt.ylabel(r\"$\\mathrm{\\Theta}^1$ / $^\\circ$\")\n"
   ]
  },
  {
   "cell_type": "markdown",
   "metadata": {},
   "source": [
    "# Cluster"
   ]
  },
  {
   "cell_type": "code",
   "execution_count": null,
   "metadata": {},
   "outputs": [],
   "source": [
    "D={}"
   ]
  },
  {
   "cell_type": "code",
   "execution_count": null,
   "metadata": {},
   "outputs": [],
   "source": [
    "q_t = q[\"d\"].reshape(-1, 1)\n",
    "X = q_t - q_t.T\n",
    "D[\"d\"] = X / (X.max()-X.min())"
   ]
  },
  {
   "cell_type": "code",
   "execution_count": null,
   "metadata": {},
   "outputs": [],
   "source": [
    "mat = D[\"d\"][::10, ::10]\n",
    "\n",
    "plt.figure()\n",
    "square=mat.shape[1]/mat.shape[0]\n",
    "plt.imshow(mat, aspect=square, origin='upper',interpolation='none')\n",
    "\n",
    "plt.gca().xaxis.set_ticks_position('bottom')\n",
    "plt.ylabel(r\"sample index\")\n",
    "plt.xlabel(r\"sample index\")\n",
    "\n",
    "cbar=plt.colorbar(fraction=0.046, pad=0.04)\n",
    "cbar.set_label (r\"D\")\n"
   ]
  },
  {
   "cell_type": "code",
   "execution_count": null,
   "metadata": {},
   "outputs": [],
   "source": [
    "q_t = q[\"tor1\"].reshape(-1, 1)\n",
    "X = np.abs(q_t - q_t.T)\n",
    "# taking the periodicity into account\n",
    "X[X> np.pi] -= 2*np.pi\n",
    "X[X<-np.pi] += 2*np.pi\n",
    "D[\"tor1\"] = X / (2*np.pi)"
   ]
  },
  {
   "cell_type": "code",
   "execution_count": null,
   "metadata": {},
   "outputs": [],
   "source": [
    "mat = D[\"tor1\"][::10, ::10]\n",
    "\n",
    "plt.figure()\n",
    "square=mat.shape[1]/mat.shape[0]\n",
    "plt.imshow(mat, aspect=square, origin='upper',interpolation='none')\n",
    "\n",
    "plt.gca().xaxis.set_ticks_position('bottom')\n",
    "plt.ylabel(r\"sample index\")\n",
    "plt.xlabel(r\"sample index\")\n",
    "\n",
    "cbar=plt.colorbar(fraction=0.046, pad=0.04)\n",
    "cbar.set_label (r\"D\")\n"
   ]
  },
  {
   "cell_type": "code",
   "execution_count": null,
   "metadata": {},
   "outputs": [],
   "source": [
    "q_t = q[\"tor2\"].reshape(-1, 1)\n",
    "X = np.abs(q_t - q_t.T)\n",
    "# taking the periodicity into account\n",
    "X[X> np.pi] -= 2*np.pi\n",
    "X[X<-np.pi] += 2*np.pi\n",
    "D[\"tor2\"] = X / (2*np.pi)"
   ]
  },
  {
   "cell_type": "code",
   "execution_count": null,
   "metadata": {},
   "outputs": [],
   "source": [
    "mat = D[\"tor2\"][::10, ::10]\n",
    "\n",
    "plt.figure()\n",
    "square=mat.shape[1]/mat.shape[0]\n",
    "plt.imshow(mat, aspect=square, origin='upper',interpolation='none')\n",
    "\n",
    "plt.gca().xaxis.set_ticks_position('bottom')\n",
    "plt.ylabel(r\"sample index\")\n",
    "plt.xlabel(r\"sample index\")\n",
    "\n",
    "cbar=plt.colorbar(fraction=0.046, pad=0.04)\n",
    "cbar.set_label (r\"D\")\n"
   ]
  },
  {
   "cell_type": "code",
   "execution_count": null,
   "metadata": {},
   "outputs": [],
   "source": [
    "D[\"total\"] = (D[\"d\"]**2.0 + D[\"tor1\"]**2.0 + D[\"tor2\"]**2.0)**0.5"
   ]
  },
  {
   "cell_type": "code",
   "execution_count": null,
   "metadata": {},
   "outputs": [],
   "source": [
    "mat = D[\"total\"][::10, ::10]\n",
    "\n",
    "plt.figure()\n",
    "square=mat.shape[1]/mat.shape[0]\n",
    "plt.imshow(mat, aspect=square, origin='upper',interpolation='none')\n",
    "\n",
    "plt.gca().xaxis.set_ticks_position('bottom')\n",
    "plt.ylabel(r\"sample index\")\n",
    "plt.xlabel(r\"sample index\")\n",
    "\n",
    "cbar=plt.colorbar(fraction=0.046, pad=0.04)\n",
    "cbar.set_label (r\"D\")\n"
   ]
  },
  {
   "cell_type": "code",
   "execution_count": null,
   "metadata": {},
   "outputs": [],
   "source": [
    "plt.hist(D[\"total\"].flatten())"
   ]
  },
  {
   "cell_type": "code",
   "execution_count": null,
   "metadata": {},
   "outputs": [],
   "source": [
    "from sklearn.cluster import AgglomerativeClustering\n",
    "\n",
    "model = AgglomerativeClustering(n_clusters=None,\n",
    "                                     distance_threshold=0.5, \n",
    "                                     affinity=\"precomputed\", \n",
    "                                     linkage=\"complete\")\n",
    "\n",
    "clustering = model.fit(D[\"total\"])"
   ]
  },
  {
   "cell_type": "code",
   "execution_count": null,
   "metadata": {},
   "outputs": [],
   "source": [
    "N_clusters = clustering.n_clusters_\n",
    "print(N_clusters)\n",
    "\n",
    "plt.plot(clustering.labels_)"
   ]
  },
  {
   "cell_type": "code",
   "execution_count": null,
   "metadata": {},
   "outputs": [],
   "source": [
    "from scipy.cluster.hierarchy import dendrogram\n",
    "\n",
    "def plot_dendrogram(model, **kwargs):\n",
    "    # Create linkage matrix and then plot the dendrogram\n",
    "\n",
    "    # create the counts of samples under each node\n",
    "    counts = np.zeros(model.children_.shape[0])\n",
    "    n_samples = len(model.labels_)\n",
    "    for i, merge in enumerate(model.children_):\n",
    "        current_count = 0\n",
    "        for child_idx in merge:\n",
    "            if child_idx < n_samples:\n",
    "                current_count += 1  # leaf node\n",
    "            else:\n",
    "                current_count += counts[child_idx - n_samples]\n",
    "        counts[i] = current_count\n",
    "\n",
    "    linkage_matrix = np.column_stack([model.children_, model.distances_,\n",
    "                                      counts]).astype(float)\n",
    "\n",
    "    # Plot the corresponding dendrogram\n",
    "    dendrogram(linkage_matrix, **kwargs)"
   ]
  },
  {
   "cell_type": "code",
   "execution_count": null,
   "metadata": {},
   "outputs": [],
   "source": [
    "plt.title('Hierarchical Clustering Dendrogram')\n",
    "# plot the top three levels of the dendrogram\n",
    "plot_dendrogram(model, truncate_mode='level', p=3)\n",
    "plt.xlabel(\"Number of points in node (or index of point if no parenthesis).\")\n",
    "plt.show()"
   ]
  },
  {
   "cell_type": "code",
   "execution_count": null,
   "metadata": {},
   "outputs": [],
   "source": [
    "import sys, importlib\n",
    "from densitytopmf import *\n",
    "importlib.reload(sys.modules['densitytopmf'])\n",
    "from densitytopmf import *"
   ]
  },
  {
   "cell_type": "code",
   "execution_count": null,
   "metadata": {},
   "outputs": [],
   "source": [
    "##### calculate the  metadaynamics weights\n",
    "Temperature = 310\n",
    "# Boltzmann constant in kJ/(mol.K)\n",
    "kB = 0.0083144621\n",
    "beta = 1.0/(kB*Temperature)"
   ]
  },
  {
   "cell_type": "code",
   "execution_count": null,
   "metadata": {},
   "outputs": [],
   "source": [
    "cluster_centers = {}"
   ]
  },
  {
   "cell_type": "code",
   "execution_count": null,
   "metadata": {},
   "outputs": [],
   "source": [
    "cluster_centers[\"d\"]    = np.full([N_clusters, 2], np.nan)\n",
    "cluster_centers[\"tor1\"] = np.full([N_clusters, 2], np.nan)\n",
    "cluster_centers[\"tor2\"] = np.full([N_clusters, 2], np.nan)\n",
    "\n",
    "G = np.full(N_clusters, np.nan)\n",
    "\n",
    "for i in range(clustering.n_clusters_):\n",
    "    mask = clustering.labels_==i\n",
    "    #plt.plot(mask)\n",
    "    cluster_centers[\"d\"]   [i,:] = do_mean_std(q[\"d\"]   [mask], weights[mask])\n",
    "    cluster_centers[\"tor1\"][i,:] = do_mean_std_angle(q[\"tor1\"][mask], weights[mask])\n",
    "    cluster_centers[\"tor2\"][i,:] = do_mean_std_angle(q[\"tor2\"][mask], weights[mask])\n",
    "    G[i] = np.sum(weights[mask])\n",
    "\n",
    "G = -np.log(G) / beta\n",
    "G -= G.min()"
   ]
  },
  {
   "cell_type": "code",
   "execution_count": null,
   "metadata": {},
   "outputs": [],
   "source": [
    "indices = np.argsort(G)\n",
    "print(indices)"
   ]
  },
  {
   "cell_type": "code",
   "execution_count": null,
   "metadata": {},
   "outputs": [],
   "source": [
    "for i in indices:\n",
    "    print (\n",
    "    i, G[i],\n",
    "    cluster_centers[\"d\"]   [i,:],\n",
    "    cluster_centers[\"tor1\"][i,0]*180/np.pi,\n",
    "    cluster_centers[\"tor2\"][i,0]*180/np.pi,\n",
    "    )"
   ]
  },
  {
   "cell_type": "code",
   "execution_count": null,
   "metadata": {},
   "outputs": [],
   "source": [
    "names = np.around(cluster_centers[\"d\"][:,0], decimals=2).astype(str)\n",
    "print(names[indices])\n",
    "\n",
    "names=np.arange(N_clusters).astype(int)\n",
    "print(G[indices])\n",
    "\n",
    "plt.bar(names, G[indices])\n",
    "plt.xticks(rotation=90)"
   ]
  },
  {
   "cell_type": "markdown",
   "metadata": {},
   "source": [
    "## Pair Distances($\\mathrm{r}$, ij)"
   ]
  },
  {
   "cell_type": "code",
   "execution_count": null,
   "metadata": {},
   "outputs": [],
   "source": [
    "#load the rmin\n",
    "dir = '../data/pairdist/' \n",
    "\n",
    "q[\"pairdist\"]=np.full([t.shape[0], 1225], np.nan) \n",
    "for window in range(0, N_windows):\n",
    "    try:\n",
    "        c = np.loadtxt(dir + str(window) + \".dist.xvg\", comments=[\"#\",\"@\"])\n",
    "        c1 = c[:,0] \n",
    "        c2 = c[:,1:]\n",
    "        print(window, end=\" \")\n",
    "    except:\n",
    "        continue\n",
    "    # here I match the windows and the times    \n",
    "    mask = (w_i==window) * np.in1d(t,c1)\n",
    "    q[\"pairdist\"][mask,:] = c2[np.in1d(c1,t[mask])]         "
   ]
  },
  {
   "cell_type": "code",
   "execution_count": null,
   "metadata": {},
   "outputs": [],
   "source": [
    "# plot them \n",
    "plt.figure()\n",
    "\n",
    "q_t = q[\"pairdist\"].copy()\n",
    "q_t [q_t==0] = np.nan\n",
    "\n",
    "plt.matshow(q_t, aspect=q_t.shape[1]/q_t.shape[0])\n",
    "plt.xlabel(r\"pairdist\")\n",
    "plt.ylabel(r\"sample index\")"
   ]
  },
  {
   "cell_type": "code",
   "execution_count": null,
   "metadata": {},
   "outputs": [],
   "source": [
    "q1_t = q[\"pairdist\"]\n",
    "q2_t = clustering.labels_\n",
    "\n",
    "mask = np.isfinite(q1_t[:,0])\n",
    "\n",
    "i=0\n",
    "\n",
    "A , bin_centers = do_average(y=q1_t[mask,i], x=q2_t[mask], weights=weights[mask], bins=np.arange(0,N_clusters+1,1))\n",
    "\n",
    "for i in range(1,1225):\n",
    "    y, x = do_average(y=q1_t[mask,i], x=q2_t[mask], weights=weights[mask], bins=np.arange(0,N_clusters+1,1))\n",
    "    A = np.vstack([A, y])"
   ]
  },
  {
   "cell_type": "code",
   "execution_count": null,
   "metadata": {},
   "outputs": [],
   "source": [
    "print(bin_centers , N_clusters)\n",
    "plt.figure()\n",
    "\n",
    "#A[A<0.00001] = np.nan\n",
    "minx, maxx, miny, maxy = bin_centers.min(), bin_centers.max(), .5, 1295.5 \n",
    "\n",
    "plt.imshow(A, origin=\"lower\", extent = (minx, maxx, miny, maxy), aspect = (maxx-minx) / (maxy-miny) , interpolation=\"none\" )\n",
    "cbar=plt.colorbar(fraction=0.046, pad=0.04)\n",
    "cbar.set_label (r\"Pairdist\")\n",
    "\n",
    "plt.xlabel(r\"$\\mathrm{r}$ / nm\")\n",
    "plt.ylabel(r\"Residue No.\")"
   ]
  },
  {
   "cell_type": "code",
   "execution_count": null,
   "metadata": {},
   "outputs": [],
   "source": [
    "B = A.reshape(35,35,-1)\n",
    "print(B.shape, B.max(), B.min())"
   ]
  },
  {
   "cell_type": "code",
   "execution_count": null,
   "metadata": {},
   "outputs": [],
   "source": [
    "for i in indices:\n",
    "    \n",
    "    plt.figure()\n",
    "\n",
    "    Z = B[:,:,i].copy()\n",
    "    #Z[Z>2] = np.nan\n",
    "\n",
    "    minx, maxx, miny, maxy = 0.5, 35.5, 0.5, 35.5 \n",
    "    aspect= (maxx-minx) / (maxy-miny)\n",
    "    plt.gca().set_aspect(aspect)\n",
    "\n",
    "    plt.imshow(Z, origin=\"lower\", extent = (minx, maxx, miny, maxy),\n",
    "               aspect = (maxx-minx) / (maxy-miny),\n",
    "               interpolation=\"gaussian\", cmap=\"gist_stern\")\n",
    "    #_X, _Y = np.meshgrid(np.arange(1,36), np.arange(1,36))\n",
    "    #plt.contourf(_X, _Y, Z.T, 5, alpha=1, cmap=\"jet_r\");\n",
    "\n",
    "    plt.gca().xaxis.set_ticks_position('bottom')\n",
    "    \n",
    "    cbar=plt.colorbar(fraction=0.046, pad=0.04)\n",
    "    cbar.set_label (r\"$\\mathrm{d_{ij}}$ / nm\")\n",
    "    \n",
    "    plt.clim(0.4,2)\n",
    "\n",
    "    plt.xlabel(r\"Residue No. (chain A)\")\n",
    "    plt.ylabel(r\"Residue No. (chain B)\")\n",
    "    plt.title(r\"$\\mathrm{\\Delta G} =$ \"   + '{0:.2f}'.format(G[i])                                   + \" $\\mathrm{kJ/mol}$, \" +\n",
    "               \"$\\mathrm{cluster} =$ \"    + '{0:.0f}'.format(np.arange(0,N_clusters+1,1)[i])         + \", \"                   +\n",
    "               \"$\\mathrm{r} =$ \"          + '{0:.2f}'.format(cluster_centers[\"d\"][i,0])              + \" $\\mathrm{nm}$, \"     +\n",
    "               \"$\\mathrm{{\\Theta}_1} =$ \" + '{0:.2f}'.format(cluster_centers[\"tor1\"][i,0]*180/np.pi) + \"$^\\circ$, \"           +\n",
    "               \"$\\mathrm{{\\Theta}_2} =$ \" + '{0:.2f}'.format(cluster_centers[\"tor2\"][i,0]*180/np.pi) + \"$^\\circ$\"\n",
    "             )"
   ]
  },
  {
   "cell_type": "code",
   "execution_count": null,
   "metadata": {},
   "outputs": [],
   "source": []
  }
 ],
 "metadata": {
  "kernelspec": {
   "display_name": "Python 3",
   "language": "python",
   "name": "python3"
  },
  "language_info": {
   "codemirror_mode": {
    "name": "ipython",
    "version": 3
   },
   "file_extension": ".py",
   "mimetype": "text/x-python",
   "name": "python",
   "nbconvert_exporter": "python",
   "pygments_lexer": "ipython3",
   "version": "3.8.10"
  }
 },
 "nbformat": 4,
 "nbformat_minor": 4
}
