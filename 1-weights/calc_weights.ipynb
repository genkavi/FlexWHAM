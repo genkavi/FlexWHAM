{
 "cells": [
  {
   "cell_type": "code",
   "execution_count": null,
   "metadata": {},
   "outputs": [],
   "source": [
    "import numpy as np\n",
    "import scipy\n",
    "import itertools\n",
    "import  pathlib \n",
    "\n",
    "import matplotlib as mpl\n",
    "import matplotlib.pyplot as plt\n",
    "%matplotlib inline\n",
    "plt.interactive(True)\n",
    "#%config InlineBackend.figure_format = 'pdf'\n",
    "from mpl_toolkits.axes_grid1.inset_locator import inset_axes\n",
    "\n",
    "from matplotlib import gridspec\n",
    "\n",
    "from IPython.display import set_matplotlib_formats\n",
    "set_matplotlib_formats('pdf', 'png')\n",
    "plt.rcParams['savefig.dpi'] = 300\n",
    "\n",
    "plt.rcParams['figure.autolayout'] = False\n",
    "\n",
    "plt.rcParams['text.usetex'] = True\n",
    "plt.rcParams['font.family'] = \"sans-serif\"\n",
    "plt.rcParams['font.serif'] = \"cm\"\n",
    "plt.rcParams['text.latex.preamble'] = [\n",
    "    r\"\\usepackage{subdepth}\",\n",
    "    r\"\\usepackage{type1cm}\",\n",
    "    r'\\usepackage{tgheros}',    # helvetica font\n",
    "    r'\\usepackage{sansmath}',   # math-font matching  helvetica\n",
    "    r'\\sansmath'                # actually tell tex to use it!\n",
    "#    r'\\usepackage{siunitx}',    # micro symbols\n",
    "#    r'\\sisetup{detect-all}',    # force siunitx to use the fonts\n",
    "]  \n",
    "\n",
    "print(plt.rcParams['figure.figsize'])\n",
    "\n",
    "\n",
    "def set_size(column=0):\n",
    "    if (column==0):\n",
    "        plt.rcParams['figure.figsize']   = [10,6]\n",
    "        plt.rcParams['axes.labelsize']   = 18 \n",
    "        plt.rcParams['axes.titlesize']   = 20 \n",
    "        plt.rcParams['font.size']        = 16 \n",
    "        plt.rcParams['lines.linewidth']  = 2.0 \n",
    "        plt.rcParams['lines.markersize'] = 8 \n",
    "        plt.rcParams['legend.fontsize']  = 14 \n",
    "    elif (column==1):\n",
    "        plt.rcParams['figure.figsize']   = [3.5,3.5*0.6]\n",
    "        plt.rcParams['axes.labelsize']   = 10 \n",
    "        plt.rcParams['axes.titlesize']   = 12 \n",
    "        plt.rcParams['font.size']        = 10 \n",
    "        plt.rcParams['lines.linewidth']  = 1.5 \n",
    "        plt.rcParams['lines.markersize'] = 10 \n",
    "        plt.rcParams['legend.fontsize']  = 10 \n",
    "    elif (column==2):\n",
    "        plt.rcParams['figure.figsize']   = [7.0,7.0*0.6]\n",
    "        plt.rcParams['axes.labelsize']   = 10 \n",
    "        plt.rcParams['axes.titlesize']   = 12 \n",
    "        plt.rcParams['font.size']        = 10 \n",
    "        plt.rcParams['lines.linewidth']  = 2.0 \n",
    "        plt.rcParams['lines.markersize'] = 10 \n",
    "        plt.rcParams['legend.fontsize']  = 10 \n",
    "        \n",
    "set_size(column=2)"
   ]
  },
  {
   "cell_type": "code",
   "execution_count": null,
   "metadata": {},
   "outputs": [],
   "source": [
    "dir='../data/rbias/'\n",
    "N_windows = 1370\n",
    "\n",
    "w_i = np.array([], dtype=\"int\")\n",
    "t   = np.array([])\n",
    "rbias = np.array([])\n",
    "\n",
    "for window in range(0, N_windows):\n",
    "    print(window, end=\" \")\n",
    "    try:\n",
    "        c1, c2 = np.loadtxt(dir + str(window) + \".txt\", unpack=True)\n",
    "        w_i    = np.append(w_i, np.full(c1.shape, window))\n",
    "        t      = np.append(t, c1)\n",
    "        rbias  = np.append(rbias, c2)\n",
    "    except:\n",
    "        continue"
   ]
  },
  {
   "cell_type": "code",
   "execution_count": null,
   "metadata": {},
   "outputs": [],
   "source": [
    "##### calculate the  metadaynamics weights\n",
    "Temperature = 310\n",
    "# Boltzmann constant in kJ/(mol.K)\n",
    "kB = 0.0083144621\n",
    "beta = 1.0/(kB*Temperature)\n",
    "Pm = np.exp(beta*rbias)"
   ]
  },
  {
   "cell_type": "code",
   "execution_count": null,
   "metadata": {},
   "outputs": [],
   "source": [
    "np.save(\"Pm.npy\", Pm)"
   ]
  },
  {
   "cell_type": "code",
   "execution_count": null,
   "metadata": {},
   "outputs": [],
   "source": [
    "plt.figure()\n",
    "plt.hist(rbias, density=True, bins=100)\n",
    "plt.ylabel(r\"$\\rho$\")\n",
    "plt.xlabel(r\"U$^\\textrm{meta}$-c$_t$\")\n",
    "\n",
    "plt.figure()\n",
    "plt.hist(Pm, density=True, bins=100)\n",
    "plt.ylabel(r\"$\\rho$\")\n",
    "plt.xlabel(r\"exp[(U$^\\textrm{meta}-$c$_t$)/kT]\")"
   ]
  },
  {
   "cell_type": "markdown",
   "metadata": {},
   "source": [
    "First run calc_U_matrix.ipynb"
   ]
  },
  {
   "cell_type": "code",
   "execution_count": null,
   "metadata": {},
   "outputs": [],
   "source": [
    "U = np.load(\"./U.npy\")"
   ]
  },
  {
   "cell_type": "code",
   "execution_count": null,
   "metadata": {},
   "outputs": [],
   "source": [
    "mat = U[::10, ::1]\n",
    "\n",
    "plt.figure()\n",
    "square = mat.shape[1]/mat.shape[0]\n",
    "plt.imshow(mat, aspect=square, origin='upper',interpolation='none')\n",
    "\n",
    "plt.gca().xaxis.set_ticks_position('bottom')\n",
    "plt.ylabel(r\"sample index\")\n",
    "plt.xlabel(r\"window index\")\n",
    "\n",
    "cbar = plt.colorbar(fraction=0.046, pad=0.04)\n",
    "cbar.set_label (r\"U / (kJ/mol)\")\n",
    "plt.title(r'Bias Matrix', y=1.05)"
   ]
  },
  {
   "cell_type": "raw",
   "metadata": {},
   "source": [
    "# I run this seperately in parallel; check run_wham.sh\n",
    "\n",
    "# WHAM Library\n",
    "from wham import *\n",
    "\n",
    "# The output is N+1 column array. The first column contains the regular weights  and the rest are the bootstrapped weights.\n",
    "# The code does bayesian bootstrap using blocks.  Here we use each window as a seperate block and this is the most conservative estimate of error.\n",
    "# We can introduce more blocks in taht case i have to provide a blocks vector.  That vector would ideally take into acount the \n",
    "# correlations within the data but I like to keep the conservative estimate.\n",
    "# Pm is used when you have prior weights, say coming from some other data like metadynamics etc, so we dont have it here\n",
    "weights = WHAM(bias_matrix    = U, \n",
    "               window_indices = w_i,\n",
    "               Temperature    = Temperature,\n",
    "               Tolerance      = 10**-5,\n",
    "               Pm             = Pm,\n",
    "               Units          = \"kJoul\",\n",
    "               Bootstrap      = 0,\n",
    "               Blocks         = None\n",
    "              )"
   ]
  },
  {
   "cell_type": "code",
   "execution_count": null,
   "metadata": {},
   "outputs": [],
   "source": [
    "np.save(\"weights.npy\", weights)"
   ]
  },
  {
   "cell_type": "markdown",
   "metadata": {},
   "source": [
    "I do the bootstraps seperately."
   ]
  },
  {
   "cell_type": "markdown",
   "metadata": {},
   "source": [
    "# Load bootstraps"
   ]
  },
  {
   "cell_type": "code",
   "execution_count": null,
   "metadata": {},
   "outputs": [],
   "source": [
    "i=0\n",
    "weights=np.load(\"bootstraps/weights.\" + str(i) + \".npy\")\n",
    "\n",
    "for i in range(1,20):\n",
    "    weights = np.hstack( [weights, np.load(\"bootstraps/weights.\" + str(i) + \".npy\")[:,1:] ] )\n",
    "    "
   ]
  },
  {
   "cell_type": "code",
   "execution_count": null,
   "metadata": {},
   "outputs": [],
   "source": [
    "print(weights.shape)"
   ]
  },
  {
   "cell_type": "code",
   "execution_count": null,
   "metadata": {},
   "outputs": [],
   "source": [
    "plt.plot(weights)"
   ]
  },
  {
   "cell_type": "code",
   "execution_count": null,
   "metadata": {},
   "outputs": [],
   "source": [
    "np.save(\"weights.npy\", weights_bs)"
   ]
  },
  {
   "cell_type": "code",
   "execution_count": null,
   "metadata": {},
   "outputs": [],
   "source": []
  }
 ],
 "metadata": {
  "kernelspec": {
   "display_name": "Python 3",
   "language": "python",
   "name": "python3"
  },
  "language_info": {
   "codemirror_mode": {
    "name": "ipython",
    "version": 3
   },
   "file_extension": ".py",
   "mimetype": "text/x-python",
   "name": "python",
   "nbconvert_exporter": "python",
   "pygments_lexer": "ipython3",
   "version": "3.8.10"
  }
 },
 "nbformat": 4,
 "nbformat_minor": 4
}
