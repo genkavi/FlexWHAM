{
 "cells": [
  {
   "cell_type": "code",
   "execution_count": null,
   "metadata": {},
   "outputs": [],
   "source": [
    "# WHAM Library\n",
    "import numpy as np\n",
    "import scipy\n",
    "import itertools\n",
    "import  pathlib \n",
    "\n",
    "import matplotlib as mpl\n",
    "import matplotlib.pyplot as plt\n",
    "%matplotlib inline\n",
    "plt.interactive(True)\n",
    "#%config InlineBackend.figure_format = 'pdf'\n",
    "from mpl_toolkits.axes_grid1.inset_locator import inset_axes\n",
    "\n",
    "from matplotlib import gridspec\n",
    "\n",
    "from IPython.display import set_matplotlib_formats\n",
    "set_matplotlib_formats('pdf', 'png')\n",
    "plt.rcParams['savefig.dpi'] = 300\n",
    "\n",
    "plt.rcParams['figure.autolayout'] = False\n",
    "\n",
    "plt.rcParams['text.usetex'] = True\n",
    "plt.rcParams['font.family'] = \"sans-serif\"\n",
    "plt.rcParams['font.serif'] = \"cm\"\n",
    "plt.rcParams['text.latex.preamble'] = [\n",
    "    r\"\\usepackage{subdepth}\",\n",
    "    r\"\\usepackage{type1cm}\",\n",
    "    r'\\usepackage{tgheros}',    # helvetica font\n",
    "    r'\\usepackage{sansmath}',   # math-font matching  helvetica\n",
    "    r'\\sansmath'                # actually tell tex to use it!\n",
    "#    r'\\usepackage{siunitx}',    # micro symbols\n",
    "#    r'\\sisetup{detect-all}',    # force siunitx to use the fonts\n",
    "]  \n",
    "\n",
    "print(plt.rcParams['figure.figsize'])\n",
    "\n",
    "\n",
    "def set_size(column=0):\n",
    "    if (column==0):\n",
    "        plt.rcParams['figure.figsize']   = [10,6]\n",
    "        plt.rcParams['axes.labelsize']   = 18 \n",
    "        plt.rcParams['axes.titlesize']   = 20 \n",
    "        plt.rcParams['font.size']        = 16 \n",
    "        plt.rcParams['lines.linewidth']  = 2.0 \n",
    "        plt.rcParams['lines.markersize'] = 8 \n",
    "        plt.rcParams['legend.fontsize']  = 14 \n",
    "    elif (column==1):\n",
    "        plt.rcParams['figure.figsize']   = [3.5,3.5*0.6]\n",
    "        plt.rcParams['axes.labelsize']   = 10 \n",
    "        plt.rcParams['axes.titlesize']   = 12 \n",
    "        plt.rcParams['font.size']        = 10 \n",
    "        plt.rcParams['lines.linewidth']  = 1.5 \n",
    "        plt.rcParams['lines.markersize'] = 10 \n",
    "        plt.rcParams['legend.fontsize']  = 10 \n",
    "    elif (column==2):\n",
    "        plt.rcParams['figure.figsize']   = [7.0,7.0*0.6]\n",
    "        plt.rcParams['axes.labelsize']   = 10 \n",
    "        plt.rcParams['axes.titlesize']   = 12 \n",
    "        plt.rcParams['font.size']        = 10 \n",
    "        plt.rcParams['lines.linewidth']  = 2.0 \n",
    "        plt.rcParams['lines.markersize'] = 10 \n",
    "        plt.rcParams['legend.fontsize']  = 10 \n",
    "        \n",
    "set_size(column=2)"
   ]
  },
  {
   "cell_type": "code",
   "execution_count": null,
   "metadata": {},
   "outputs": [],
   "source": [
    "dir='../data/d_tor1_tor2/'\n",
    "N_windows = 1370\n",
    "\n",
    "w_i = np.array([], dtype=\"int\")\n",
    "t   = np.array([])\n",
    "q = {}\n",
    "q[\"d\"], q[\"tor1\"], q[\"tor2\"] = np.array([]), np.array([]), np.array([])\n",
    "\n",
    "for window in range(0, N_windows):\n",
    "    print(window, end=\" \")\n",
    "    try:\n",
    "        c1, c2, c3, c4 = np.loadtxt(dir + str(window) + \".txt\", unpack=True)\n",
    "        w_i  = np.append(w_i, np.full(c1.shape, window))\n",
    "        t    = np.append(t, c1)\n",
    "        q[\"d\"]    = np.append(q[\"d\"]   , c2)\n",
    "        q[\"tor1\"] = np.append(q[\"tor1\"], c3)\n",
    "        q[\"tor2\"] = np.append(q[\"tor2\"], c4)\n",
    "    except:\n",
    "        continue\n",
    "    \n"
   ]
  },
  {
   "cell_type": "code",
   "execution_count": null,
   "metadata": {},
   "outputs": [],
   "source": [
    "# plot them \n",
    "plt.figure()\n",
    "plt.plot(q[\"d\"])\n",
    "plt.xlabel(r\"sample index\")\n",
    "plt.ylabel(r\"r / nm\")\n",
    "\n",
    "plt.figure()\n",
    "plt.plot(q[\"tor1\"])\n",
    "plt.xlabel(r\"sample index\")\n",
    "plt.ylabel(r\"$\\mathrm{\\Theta}^0$ / $^\\circ$\")\n",
    "\n",
    "plt.figure()\n",
    "plt.plot(q[\"tor2\"])\n",
    "plt.xlabel(r\"sample index\")\n",
    "plt.ylabel(r\"$\\mathrm{\\Theta}^1$ / $^\\circ$\")\n"
   ]
  },
  {
   "cell_type": "code",
   "execution_count": null,
   "metadata": {
    "hidePrompt": true
   },
   "outputs": [],
   "source": [
    "dir='../data/plumed_params/'\n",
    "window_list=np.unique(w_i)\n",
    "\n",
    "p={}\n",
    "p[\"d\"], p[\"tor1\"], p[\"tor2\"] = np.array([]), np.array([]), np.array([])\n",
    "\n",
    "for window in window_list:\n",
    "    print(window, end=\" \")\n",
    "    c1, c2, c3 = np.loadtxt(dir + str(window) + \".txt\", unpack=True).T\n",
    "    p[\"d\"]    = np.append(p[\"d\"],    c1)\n",
    "    p[\"tor1\"] = np.append(p[\"tor1\"], c2)\n",
    "    p[\"tor2\"] = np.append( p[\"tor2\"], c3)\n",
    "\n",
    "p[\"d\"]    = p[\"d\"]   .reshape(-1,2)\n",
    "p[\"tor1\"] = p[\"tor1\"].reshape(-1,2)\n",
    "p[\"tor2\"] = p[\"tor2\"].reshape(-1,2)"
   ]
  },
  {
   "cell_type": "code",
   "execution_count": null,
   "metadata": {},
   "outputs": [],
   "source": [
    "U = {}"
   ]
  },
  {
   "cell_type": "code",
   "execution_count": null,
   "metadata": {},
   "outputs": [],
   "source": [
    "q_t = q[\"tor1\"].reshape(-1, 1)\n",
    "q_0 = p[\"tor1\"][:,0].reshape(1, -1)\n",
    "k   = p[\"tor1\"][:,1].reshape(1, -1)\n",
    "\n",
    "X = q_t - q_0\n",
    "# taking the periodicity into account\n",
    "X[X> np.pi] -= 2*np.pi\n",
    "X[X<-np.pi] += 2*np.pi\n",
    "\n",
    "U[\"tor1\"] = 0.5 * k * X**2.0"
   ]
  },
  {
   "cell_type": "code",
   "execution_count": null,
   "metadata": {},
   "outputs": [],
   "source": [
    "q_t = q[\"tor2\"].reshape(-1, 1)\n",
    "q_0 = p[\"tor2\"][:,0].reshape(1, -1)\n",
    "k   = p[\"tor2\"][:,1].reshape(1, -1)\n",
    "\n",
    "X = q_t - q_0\n",
    "# taking the periodicity into account\n",
    "X[X> np.pi] -= 2*np.pi\n",
    "X[X<-np.pi] += 2*np.pi\n",
    "\n",
    "U[\"tor2\"] = 0.5 * k * X**2.0"
   ]
  },
  {
   "cell_type": "code",
   "execution_count": null,
   "metadata": {},
   "outputs": [],
   "source": [
    "q_t = q[\"d\"].reshape(-1, 1)\n",
    "q_0 = p[\"d\"][:,0].reshape(1, -1)\n",
    "k   = p[\"d\"][:,1].reshape(1, -1)\n",
    "\n",
    "X = q_t - q_0\n",
    "# settign all negative distances to 0 for half harmonic\n",
    "X[X<0] = 0\n",
    "\n",
    "U[\"d\"] = k * X**2.0"
   ]
  },
  {
   "cell_type": "code",
   "execution_count": null,
   "metadata": {},
   "outputs": [],
   "source": [
    "U[\"total\"] = U[\"tor1\"] + U[\"tor2\"] + U[\"d\"]"
   ]
  },
  {
   "cell_type": "code",
   "execution_count": null,
   "metadata": {},
   "outputs": [],
   "source": [
    "mat = U[\"d\"][::10, ::1]\n",
    "\n",
    "plt.figure()\n",
    "square=mat.shape[1]/mat.shape[0]\n",
    "plt.imshow(mat, aspect=square, origin='upper',interpolation='none')\n",
    "\n",
    "plt.gca().xaxis.set_ticks_position('bottom')\n",
    "plt.ylabel(r\"sample index\")\n",
    "plt.xlabel(r\"window index\")\n",
    "\n",
    "cbar=plt.colorbar(fraction=0.046, pad=0.04)\n",
    "cbar.set_label (r\"U / (kJ/mol)\")\n",
    "plt.title(r'Bias Matrix', y=1.05)"
   ]
  },
  {
   "cell_type": "code",
   "execution_count": null,
   "metadata": {},
   "outputs": [],
   "source": [
    "mat = U[\"tor2\"][::10, ::1]\n",
    "\n",
    "plt.figure()\n",
    "square=mat.shape[1]/mat.shape[0]\n",
    "plt.imshow(mat, aspect=square, origin='upper',interpolation='none')\n",
    "\n",
    "plt.gca().xaxis.set_ticks_position('bottom')\n",
    "plt.ylabel(r\"sample index\")\n",
    "plt.xlabel(r\"window index\")\n",
    "\n",
    "cbar=plt.colorbar(fraction=0.046, pad=0.04)\n",
    "cbar.set_label (r\"U / (kJ/mol)\")\n",
    "plt.title(r'Bias Matrix', y=1.05)"
   ]
  },
  {
   "cell_type": "code",
   "execution_count": null,
   "metadata": {},
   "outputs": [],
   "source": [
    "mat = U[\"tor1\"][::10, ::1]\n",
    "\n",
    "plt.figure()\n",
    "square=mat.shape[1]/mat.shape[0]\n",
    "plt.imshow(mat, aspect=square, origin='upper',interpolation='none')\n",
    "\n",
    "plt.gca().xaxis.set_ticks_position('bottom')\n",
    "plt.ylabel(r\"sample index\")\n",
    "plt.xlabel(r\"window index\")\n",
    "\n",
    "cbar=plt.colorbar(fraction=0.046, pad=0.04)\n",
    "cbar.set_label (r\"U / (kJ/mol)\")\n",
    "plt.title(r'Bias Matrix', y=1.05)\n"
   ]
  },
  {
   "cell_type": "code",
   "execution_count": null,
   "metadata": {},
   "outputs": [],
   "source": [
    "mat = U[\"total\"][::10, ::1]\n",
    "\n",
    "plt.figure()\n",
    "square=mat.shape[1]/mat.shape[0]\n",
    "plt.imshow(mat, aspect=square, origin='upper',interpolation='none')\n",
    "\n",
    "plt.gca().xaxis.set_ticks_position('bottom')\n",
    "plt.ylabel(r\"sample index\")\n",
    "plt.xlabel(r\"window index\")\n",
    "\n",
    "cbar=plt.colorbar(fraction=0.046, pad=0.04)\n",
    "cbar.set_label (r\"U / (kJ/mol)\")\n",
    "plt.title(r'Bias Matrix', y=1.05)"
   ]
  },
  {
   "cell_type": "code",
   "execution_count": null,
   "metadata": {},
   "outputs": [],
   "source": [
    "np.save(\"U.npy\", U[\"total\"])"
   ]
  },
  {
   "cell_type": "code",
   "execution_count": null,
   "metadata": {},
   "outputs": [],
   "source": [
    "np.save(\"w_i.npy\", w_i)"
   ]
  }
 ],
 "metadata": {
  "kernelspec": {
   "display_name": "Python 3",
   "language": "python",
   "name": "python3"
  },
  "language_info": {
   "codemirror_mode": {
    "name": "ipython",
    "version": 3
   },
   "file_extension": ".py",
   "mimetype": "text/x-python",
   "name": "python",
   "nbconvert_exporter": "python",
   "pygments_lexer": "ipython3",
   "version": "3.8.10"
  }
 },
 "nbformat": 4,
 "nbformat_minor": 4
}
